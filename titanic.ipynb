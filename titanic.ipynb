{
  "nbformat": 4,
  "nbformat_minor": 0,
  "metadata": {
    "colab": {
      "name": "Untitled",
      "provenance": []
    },
    "kernelspec": {
      "name": "python3",
      "display_name": "Python 3"
    },
    "accelerator": "GPU"
  },
  "cells": [
    {
      "cell_type": "code",
      "metadata": {
        "id": "O-jUn-qor36C",
        "colab_type": "code",
        "colab": {
          "base_uri": "https://localhost:8080/",
          "height": 243
        },
        "outputId": "73406bfb-127d-47f5-9f63-ba3815a56669"
      },
      "source": [
        "!wget https://github.com/elizabethts/deploy-mlm-flask-heroku/blob/master/titanic.csv"
      ],
      "execution_count": null,
      "outputs": [
        {
          "output_type": "stream",
          "text": [
            "--2020-08-22 01:02:46--  https://github.com/elizabethts/deploy-mlm-flask-heroku/blob/master/titanic.csv\n",
            "Resolving github.com (github.com)... 140.82.113.4\n",
            "Connecting to github.com (github.com)|140.82.113.4|:443... connected.\n",
            "HTTP request sent, awaiting response... 200 OK\n",
            "Length: unspecified [text/html]\n",
            "Saving to: ‘titanic.csv’\n",
            "\n",
            "\rtitanic.csv             [<=>                 ]       0  --.-KB/s               \rtitanic.csv             [ <=>                ] 192.00K   764KB/s               \rtitanic.csv             [  <=>               ] 504.75K  1.57MB/s    in 0.3s    \n",
            "\n",
            "2020-08-22 01:02:47 (1.57 MB/s) - ‘titanic.csv’ saved [516863]\n",
            "\n"
          ],
          "name": "stdout"
        }
      ]
    },
    {
      "cell_type": "code",
      "metadata": {
        "id": "5MfOaXIUsJ0F",
        "colab_type": "code",
        "colab": {
          "base_uri": "https://localhost:8080/",
          "height": 36
        },
        "outputId": "d742ba0c-48de-4270-aa31-043344f7a04c"
      },
      "source": [
        "!dir \".\""
      ],
      "execution_count": null,
      "outputs": [
        {
          "output_type": "stream",
          "text": [
            "aclImdb  aclImdb_v1.tar.gz  movie_data.csv  sample_data  titanic.csv\n"
          ],
          "name": "stdout"
        }
      ]
    },
    {
      "cell_type": "code",
      "metadata": {
        "id": "W1xSPb7LsSTT",
        "colab_type": "code",
        "colab": {}
      },
      "source": [
        "import pandas as pd\n",
        "from sklearn.linear_model import LogisticRegression\n",
        "\n",
        "# create df\n",
        "train = pd.read_csv('./newTitanic.csv',error_bad_lines=False)\n",
        "\n"
      ],
      "execution_count": 31,
      "outputs": []
    },
    {
      "cell_type": "code",
      "metadata": {
        "id": "Eu2nLyIruS5c",
        "colab_type": "code",
        "colab": {
          "base_uri": "https://localhost:8080/",
          "height": 36
        },
        "outputId": "628ad090-6d75-4102-f066-9dbc20774dbd"
      },
      "source": [
        "\n",
        "f = open('./titanic.csv')\n",
        "f.readlines()[:5]"
      ],
      "execution_count": 32,
      "outputs": [
        {
          "output_type": "execute_result",
          "data": {
            "text/plain": [
              "['\\n', '\\n', '\\n', '\\n', '\\n']"
            ]
          },
          "metadata": {
            "tags": []
          },
          "execution_count": 32
        }
      ]
    },
    {
      "cell_type": "code",
      "metadata": {
        "id": "xcbugh7ysfl5",
        "colab_type": "code",
        "colab": {
          "base_uri": "https://localhost:8080/",
          "height": 36
        },
        "outputId": "bcec8080-1b00-4742-d8e7-0ebc9762506c"
      },
      "source": [
        "# drop null values\n",
        "train.dropna(inplace=True)\n",
        "\n",
        "# features and target\n",
        "target = 'Survived'\n",
        "features = ['Pclass', 'Age', 'SibSp', 'Fare']\n",
        "\n",
        "#X matrix y vector\n",
        "X = train[features]\n",
        "y = train[target]\n",
        "\n",
        "#model \n",
        "model = LogisticRegression()\n",
        "model.fit(X, y)\n",
        "model.score(X, y)"
      ],
      "execution_count": 33,
      "outputs": [
        {
          "output_type": "execute_result",
          "data": {
            "text/plain": [
              "0.7103825136612022"
            ]
          },
          "metadata": {
            "tags": []
          },
          "execution_count": 33
        }
      ]
    },
    {
      "cell_type": "code",
      "metadata": {
        "id": "BeR6WuEgvOJz",
        "colab_type": "code",
        "colab": {}
      },
      "source": [
        "import pickle\n",
        "pickle.dump(model, open('model.pkl', 'wb'))"
      ],
      "execution_count": 34,
      "outputs": []
    }
  ]
}